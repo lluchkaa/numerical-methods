{
 "cells": [
  {
   "cell_type": "markdown",
   "id": "99d89f59",
   "metadata": {},
   "source": [
    "# Практична робота #2\n",
    "Лучка Юрій Васильович"
   ]
  },
  {
   "cell_type": "markdown",
   "id": "80938acd",
   "metadata": {},
   "source": [
    "## Завдання 1"
   ]
  },
  {
   "cell_type": "markdown",
   "id": "2b4e4259",
   "metadata": {},
   "source": [
    "### Частина 1"
   ]
  },
  {
   "cell_type": "code",
   "execution_count": null,
   "id": "e4df1ee0",
   "metadata": {},
   "outputs": [
    {
     "data": {
      "text/latex": [
       "$\\displaystyle e^{\\frac{1}{2}}$"
      ],
      "text/plain": [
       " 1/2\n",
       "ℯ   "
      ]
     },
     "metadata": {},
     "output_type": "display_data"
    }
   ],
   "source": [
    "import sympy as sp\n",
    "from IPython.display import display\n",
    "\n",
    "x = sp.symbols('x')\n",
    "\n",
    "expr1 = (1 + sp.tan(sp.sqrt(x))**2)**(1/(2*x))\n",
    "limit1 = sp.limit(expr1, x, 0)\n",
    "\n",
    "display(limit1)"
   ]
  },
  {
   "cell_type": "markdown",
   "id": "3219bd61",
   "metadata": {},
   "source": [
    "### Частина 2"
   ]
  },
  {
   "cell_type": "code",
   "execution_count": null,
   "id": "a8b5949d",
   "metadata": {},
   "outputs": [
    {
     "data": {
      "text/latex": [
       "$\\displaystyle \\frac{1 - e^{a \\log{\\left(a \\right)}}}{a}$"
      ],
      "text/plain": [
       "     a⋅log(a)\n",
       "1 - ℯ        \n",
       "─────────────\n",
       "      a      "
      ]
     },
     "metadata": {},
     "output_type": "display_data"
    }
   ],
   "source": [
    "import sympy as sp\n",
    "from IPython.display import display\n",
    "\n",
    "x, a = sp.symbols('x a')\n",
    "expr2 = (1 - a**x) / x\n",
    "limit2 = sp.limit(expr2, x, a)\n",
    "display(limit2)"
   ]
  },
  {
   "cell_type": "markdown",
   "id": "e3a7e5b3",
   "metadata": {},
   "source": [
    "## Завдання 2"
   ]
  },
  {
   "cell_type": "markdown",
   "id": "c4cdbe77",
   "metadata": {},
   "source": [
    "### Частина 1"
   ]
  },
  {
   "cell_type": "code",
   "execution_count": null,
   "id": "ba110110",
   "metadata": {},
   "outputs": [
    {
     "data": {
      "text/latex": [
       "$\\displaystyle \\frac{-1 + \\frac{1}{x^{2} + 1}}{x + \\tan{\\left(x \\right)}} + \\frac{\\left(- x + \\operatorname{atan}{\\left(x \\right)}\\right) \\left(- \\tan^{2}{\\left(x \\right)} - 2\\right)}{\\left(x + \\tan{\\left(x \\right)}\\right)^{2}}$"
      ],
      "text/plain": [
       "       1                                    \n",
       "-1 + ──────                                 \n",
       "      2                      ⎛     2       ⎞\n",
       "     x  + 1   (-x + atan(x))⋅⎝- tan (x) - 2⎠\n",
       "─────────── + ──────────────────────────────\n",
       "x + tan(x)                        2         \n",
       "                      (x + tan(x))          "
      ]
     },
     "metadata": {},
     "output_type": "display_data"
    },
    {
     "data": {
      "text/latex": [
       "$\\displaystyle \\frac{2 \\left(\\frac{3 x \\left(\\tan^{2}{\\left(x \\right)} + 2\\right)}{\\left(x + \\tan{\\left(x \\right)}\\right) \\left(x^{2} + 1\\right)^{2}} + \\frac{3 \\left(1 - \\frac{1}{x^{2} + 1}\\right) \\left(\\left(\\tan^{2}{\\left(x \\right)} + 1\\right) \\tan{\\left(x \\right)} - \\frac{\\left(\\tan^{2}{\\left(x \\right)} + 2\\right)^{2}}{x + \\tan{\\left(x \\right)}}\\right)}{x + \\tan{\\left(x \\right)}} + \\frac{\\frac{4 x^{2}}{x^{2} + 1} - 1}{\\left(x^{2} + 1\\right)^{2}} + \\frac{\\left(x - \\operatorname{atan}{\\left(x \\right)}\\right) \\left(\\left(\\tan^{2}{\\left(x \\right)} + 1\\right)^{2} + 2 \\left(\\tan^{2}{\\left(x \\right)} + 1\\right) \\tan^{2}{\\left(x \\right)} - \\frac{6 \\left(\\tan^{2}{\\left(x \\right)} + 1\\right) \\left(\\tan^{2}{\\left(x \\right)} + 2\\right) \\tan{\\left(x \\right)}}{x + \\tan{\\left(x \\right)}} + \\frac{3 \\left(\\tan^{2}{\\left(x \\right)} + 2\\right)^{3}}{\\left(x + \\tan{\\left(x \\right)}\\right)^{2}}\\right)}{x + \\tan{\\left(x \\right)}}\\right)}{x + \\tan{\\left(x \\right)}}$"
      ],
      "text/plain": [
       "  ⎛                                        ⎛                                   ↪\n",
       "  ⎜                                        ⎜                       ⎛   2       ↪\n",
       "  ⎜                           ⎛      1   ⎞ ⎜⎛   2       ⎞          ⎝tan (x) +  ↪\n",
       "  ⎜                         3⋅⎜1 - ──────⎟⋅⎜⎝tan (x) + 1⎠⋅tan(x) - ─────────── ↪\n",
       "  ⎜      ⎛   2       ⎞        ⎜     2    ⎟ ⎝                         x + tan(x ↪\n",
       "  ⎜  3⋅x⋅⎝tan (x) + 2⎠        ⎝    x  + 1⎠                                     ↪\n",
       "2⋅⎜────────────────────── + ────────────────────────────────────────────────── ↪\n",
       "  ⎜                     2                         x + tan(x)                   ↪\n",
       "  ⎜             ⎛ 2    ⎞                                                       ↪\n",
       "  ⎝(x + tan(x))⋅⎝x  + 1⎠                                                       ↪\n",
       "────────────────────────────────────────────────────────────────────────────── ↪\n",
       "                                                                               ↪\n",
       "\n",
       "↪   2⎞                              ⎛                                          ↪\n",
       "↪  ⎞ ⎟       2                      ⎜             2                            ↪\n",
       "↪ 2⎠ ⎟    4⋅x                       ⎜⎛   2       ⎞      ⎛   2       ⎞    2     ↪\n",
       "↪ ───⎟   ────── - 1   (x - atan(x))⋅⎜⎝tan (x) + 1⎠  + 2⋅⎝tan (x) + 1⎠⋅tan (x)  ↪\n",
       "↪ )  ⎠    2                         ⎜                                          ↪\n",
       "↪        x  + 1                     ⎝                                          ↪\n",
       "↪ ──── + ────────── + ──────────────────────────────────────────────────────── ↪\n",
       "↪                2                                                        x +  ↪\n",
       "↪        ⎛ 2    ⎞                                                              ↪\n",
       "↪        ⎝x  + 1⎠                                                              ↪\n",
       "↪ ──────────────────────────────────────────────────────────────────────────── ↪\n",
       "↪                        x + tan(x)                                            ↪\n",
       "\n",
       "↪                                                         3⎞⎞\n",
       "↪     ⎛   2       ⎞ ⎛   2       ⎞            ⎛   2       ⎞ ⎟⎟\n",
       "↪   6⋅⎝tan (x) + 1⎠⋅⎝tan (x) + 2⎠⋅tan(x)   3⋅⎝tan (x) + 2⎠ ⎟⎟\n",
       "↪ - ──────────────────────────────────── + ────────────────⎟⎟\n",
       "↪                x + tan(x)                             2  ⎟⎟\n",
       "↪                                           (x + tan(x))   ⎠⎟\n",
       "↪ ──────────────────────────────────────────────────────────⎟\n",
       "↪ tan(x)                                                    ⎟\n",
       "↪                                                           ⎟\n",
       "↪                                                           ⎠\n",
       "↪ ───────────────────────────────────────────────────────────\n",
       "↪                                                            "
      ]
     },
     "metadata": {},
     "output_type": "display_data"
    }
   ],
   "source": [
    "import sympy as sp\n",
    "from IPython.display import display\n",
    "\n",
    "x = sp.symbols('x')\n",
    "\n",
    "f1 = (sp.atan(x) - x) / (sp.tan(x) + x)\n",
    "f1_prime = sp.diff(f1, x)\n",
    "f1_third = sp.diff(f1, x, 3)\n",
    "\n",
    "display(f1_prime)\n",
    "display(f1_third)"
   ]
  },
  {
   "cell_type": "markdown",
   "id": "d74a72b3",
   "metadata": {},
   "source": [
    "### Частина 2"
   ]
  },
  {
   "cell_type": "code",
   "execution_count": 30,
   "id": "284910a7",
   "metadata": {},
   "outputs": [
    {
     "data": {
      "text/latex": [
       "$\\displaystyle \\frac{- \\sin{\\left(x \\right)} + e^{- x}}{x + \\tan{\\left(x \\right)}} + \\frac{\\left(\\cos{\\left(x \\right)} - e^{- x}\\right) \\left(- \\tan^{2}{\\left(x \\right)} - 2\\right)}{\\left(x + \\tan{\\left(x \\right)}\\right)^{2}}$"
      ],
      "text/plain": [
       "           -x   ⎛          -x⎞ ⎛     2       ⎞\n",
       "-sin(x) + ℯ     ⎝cos(x) - ℯ  ⎠⋅⎝- tan (x) - 2⎠\n",
       "───────────── + ──────────────────────────────\n",
       " x + tan(x)                         2         \n",
       "                        (x + tan(x))          "
      ]
     },
     "metadata": {},
     "output_type": "display_data"
    },
    {
     "data": {
      "text/latex": [
       "$\\displaystyle \\frac{\\sin{\\left(x \\right)} + e^{- x} + \\frac{6 \\left(\\left(\\tan^{2}{\\left(x \\right)} + 1\\right) \\tan{\\left(x \\right)} - \\frac{\\left(\\tan^{2}{\\left(x \\right)} + 2\\right)^{2}}{x + \\tan{\\left(x \\right)}}\\right) \\left(\\sin{\\left(x \\right)} - e^{- x}\\right)}{x + \\tan{\\left(x \\right)}} - \\frac{2 \\left(\\cos{\\left(x \\right)} - e^{- x}\\right) \\left(\\left(\\tan^{2}{\\left(x \\right)} + 1\\right)^{2} + 2 \\left(\\tan^{2}{\\left(x \\right)} + 1\\right) \\tan^{2}{\\left(x \\right)} - \\frac{6 \\left(\\tan^{2}{\\left(x \\right)} + 1\\right) \\left(\\tan^{2}{\\left(x \\right)} + 2\\right) \\tan{\\left(x \\right)}}{x + \\tan{\\left(x \\right)}} + \\frac{3 \\left(\\tan^{2}{\\left(x \\right)} + 2\\right)^{3}}{\\left(x + \\tan{\\left(x \\right)}\\right)^{2}}\\right)}{x + \\tan{\\left(x \\right)}} + \\frac{3 \\left(\\cos{\\left(x \\right)} + e^{- x}\\right) \\left(\\tan^{2}{\\left(x \\right)} + 2\\right)}{x + \\tan{\\left(x \\right)}}}{x + \\tan{\\left(x \\right)}}$"
      ],
      "text/plain": [
       "                                                                               ↪\n",
       "                 ⎛                                    2⎞                       ↪\n",
       "                 ⎜                       ⎛   2       ⎞ ⎟                    ⎛  ↪\n",
       "                 ⎜⎛   2       ⎞          ⎝tan (x) + 2⎠ ⎟ ⎛          -x⎞   2⋅⎝c ↪\n",
       "               6⋅⎜⎝tan (x) + 1⎠⋅tan(x) - ──────────────⎟⋅⎝sin(x) - ℯ  ⎠        ↪\n",
       "          -x     ⎝                         x + tan(x)  ⎠                       ↪\n",
       "sin(x) + ℯ   + ──────────────────────────────────────────────────────── - ──── ↪\n",
       "                                      x + tan(x)                               ↪\n",
       "────────────────────────────────────────────────────────────────────────────── ↪\n",
       "                                                                               ↪\n",
       "\n",
       "↪              ⎛                                                               ↪\n",
       "↪              ⎜             2                               ⎛   2       ⎞ ⎛   ↪\n",
       "↪          -x⎞ ⎜⎛   2       ⎞      ⎛   2       ⎞    2      6⋅⎝tan (x) + 1⎠⋅⎝ta ↪\n",
       "↪ os(x) - ℯ  ⎠⋅⎜⎝tan (x) + 1⎠  + 2⋅⎝tan (x) + 1⎠⋅tan (x) - ─────────────────── ↪\n",
       "↪              ⎜                                                        x + ta ↪\n",
       "↪              ⎝                                                               ↪\n",
       "↪ ──────────────────────────────────────────────────────────────────────────── ↪\n",
       "↪                                                  x + tan(x)                  ↪\n",
       "↪ ──────────────────────────────────────────────────────────────────────────── ↪\n",
       "↪                              x + tan(x)                                      ↪\n",
       "\n",
       "↪                                    3⎞                                 \n",
       "↪  2       ⎞            ⎛   2       ⎞ ⎟                                 \n",
       "↪ n (x) + 2⎠⋅tan(x)   3⋅⎝tan (x) + 2⎠ ⎟                                 \n",
       "↪ ───────────────── + ────────────────⎟                                 \n",
       "↪ n(x)                             2  ⎟     ⎛          -x⎞ ⎛   2       ⎞\n",
       "↪                      (x + tan(x))   ⎠   3⋅⎝cos(x) + ℯ  ⎠⋅⎝tan (x) + 2⎠\n",
       "↪ ───────────────────────────────────── + ──────────────────────────────\n",
       "↪                                                   x + tan(x)          \n",
       "↪ ──────────────────────────────────────────────────────────────────────\n",
       "↪                                                                       "
      ]
     },
     "metadata": {},
     "output_type": "display_data"
    }
   ],
   "source": [
    "import sympy as sp\n",
    "from IPython.display import display\n",
    "\n",
    "x = sp.symbols('x')\n",
    "\n",
    "f2 = (sp.cos(x) - sp.exp(-x)) / (x + sp.tan(x))\n",
    "f2_prime = sp.diff(f2, x)\n",
    "f2_third = sp.diff(f2, x, 3)\n",
    "\n",
    "display(f2_prime)\n",
    "display(f2_third)"
   ]
  },
  {
   "cell_type": "markdown",
   "id": "09b8c147",
   "metadata": {},
   "source": [
    "## Завдання 3"
   ]
  },
  {
   "cell_type": "markdown",
   "id": "f2419e69",
   "metadata": {},
   "source": [
    "### Частина 1"
   ]
  },
  {
   "cell_type": "code",
   "execution_count": null,
   "id": "e629dcf3",
   "metadata": {},
   "outputs": [
    {
     "data": {
      "text/latex": [
       "$\\displaystyle \\frac{x \\tan{\\left(\\frac{x}{2} \\right)}}{2} - \\frac{x}{2 \\tan{\\left(\\frac{x}{2} \\right)}} - \\log{\\left(\\tan^{2}{\\left(\\frac{x}{2} \\right)} + 1 \\right)} + \\log{\\left(\\tan{\\left(\\frac{x}{2} \\right)} \\right)}$"
      ],
      "text/plain": [
       "     ⎛x⎞                                            \n",
       "x⋅tan⎜─⎟                                            \n",
       "     ⎝2⎠      x          ⎛   2⎛x⎞    ⎞      ⎛   ⎛x⎞⎞\n",
       "──────── - ──────── - log⎜tan ⎜─⎟ + 1⎟ + log⎜tan⎜─⎟⎟\n",
       "   2            ⎛x⎞      ⎝    ⎝2⎠    ⎠      ⎝   ⎝2⎠⎠\n",
       "           2⋅tan⎜─⎟                                 \n",
       "                ⎝2⎠                                 "
      ]
     },
     "metadata": {},
     "output_type": "display_data"
    }
   ],
   "source": [
    "import sympy as sp\n",
    "from IPython.display import display\n",
    "\n",
    "x = sp.symbols('x')\n",
    "\n",
    "expr1 = x / sp.sin(x)**2\n",
    "indef_integral = sp.integrate(expr1, x)\n",
    "\n",
    "display(indef_integral)"
   ]
  },
  {
   "cell_type": "markdown",
   "id": "00e34279",
   "metadata": {},
   "source": [
    "### Частина 2"
   ]
  },
  {
   "cell_type": "code",
   "execution_count": 34,
   "id": "f7cd93f8",
   "metadata": {},
   "outputs": [
    {
     "data": {
      "text/latex": [
       "$\\displaystyle \\frac{2 \\left(-1 + \\log{\\left(2 \\right)}\\right)}{\\log{\\left(2 \\right)}^{2}} - \\cos{\\left(1 \\right)} + \\sin{\\left(1 \\right)} + \\frac{1}{\\log{\\left(2 \\right)}^{2}}$"
      ],
      "text/plain": [
       "2⋅(-1 + log(2))                        1   \n",
       "─────────────── - cos(1) + sin(1) + ───────\n",
       "       2                               2   \n",
       "    log (2)                         log (2)"
      ]
     },
     "metadata": {},
     "output_type": "display_data"
    },
    {
     "name": "stdout",
     "output_type": "stream",
     "text": [
      "1.10518977971208\n"
     ]
    }
   ],
   "source": [
    "import sympy as sp\n",
    "from IPython.display import display\n",
    "\n",
    "x = sp.symbols('x')\n",
    "\n",
    "expr2 = x * 2**x + x * sp.sin(x)\n",
    "def_integral = sp.integrate(expr2, (x, 0, 1))\n",
    "\n",
    "display(def_integral)\n",
    "print(def_integral.evalf())"
   ]
  },
  {
   "cell_type": "markdown",
   "id": "10752e3f",
   "metadata": {},
   "source": [
    "## Завдання 4"
   ]
  },
  {
   "cell_type": "code",
   "execution_count": 35,
   "id": "b800f493",
   "metadata": {},
   "outputs": [
    {
     "data": {
      "text/latex": [
       "$\\displaystyle x - \\frac{7 x^{2}}{2} + \\frac{10 x^{3}}{3} - \\frac{31 x^{4}}{4} + \\frac{61 x^{5}}{5} + O\\left(x^{6}\\right)$"
      ],
      "text/plain": [
       "       2       3       4       5        \n",
       "    7⋅x    10⋅x    31⋅x    61⋅x     ⎛ 6⎞\n",
       "x - ──── + ───── - ───── + ───── + O⎝x ⎠\n",
       "     2       3       4       5          "
      ]
     },
     "metadata": {},
     "output_type": "display_data"
    }
   ],
   "source": [
    "import sympy as sp\n",
    "from IPython.display import display\n",
    "\n",
    "x = sp.symbols('x')\n",
    "\n",
    "f = sp.log(1 + x - 3*x**2)\n",
    "taylor_series = sp.series(f, x, 0, 6)\n",
    "display(taylor_series)"
   ]
  }
 ],
 "metadata": {
  "kernelspec": {
   "display_name": ".venv",
   "language": "python",
   "name": "python3"
  },
  "language_info": {
   "codemirror_mode": {
    "name": "ipython",
    "version": 3
   },
   "file_extension": ".py",
   "mimetype": "text/x-python",
   "name": "python",
   "nbconvert_exporter": "python",
   "pygments_lexer": "ipython3",
   "version": "3.12.11"
  }
 },
 "nbformat": 4,
 "nbformat_minor": 5
}
