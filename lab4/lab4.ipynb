{
 "cells": [
  {
   "cell_type": "markdown",
   "id": "99d89f59",
   "metadata": {},
   "source": [
    "# Практична робота #4\n",
    "\n",
    "Лучка Юрій Васильович\n"
   ]
  },
  {
   "cell_type": "markdown",
   "id": "80938acd",
   "metadata": {},
   "source": [
    "Вхідні дані"
   ]
  },
  {
   "cell_type": "code",
   "execution_count": 1,
   "id": "e4df1ee0",
   "metadata": {},
   "outputs": [],
   "source": [
    "m = 3\n",
    "n = 7"
   ]
  },
  {
   "cell_type": "markdown",
   "id": "e2e9ef5e",
   "metadata": {},
   "source": [
    "Матриця А:"
   ]
  },
  {
   "cell_type": "code",
   "execution_count": 2,
   "id": "57a54e68",
   "metadata": {},
   "outputs": [
    {
     "data": {
      "text/latex": [
       "$\\displaystyle \\left[\\begin{matrix}10.3 & 10 & 8 & -3.2\\\\3 & 15.7 & -7 & -4\\\\-7 & 3 & 38.5 & -1.75\\\\10 & 3 & -7 & 10\\end{matrix}\\right]$"
      ],
      "text/plain": [
       "Matrix([\n",
       "[10.3,   10,    8,  -3.2],\n",
       "[   3, 15.7,   -7,    -4],\n",
       "[  -7,    3, 38.5, -1.75],\n",
       "[  10,    3,   -7,    10]])"
      ]
     },
     "execution_count": 2,
     "metadata": {},
     "output_type": "execute_result"
    }
   ],
   "source": [
    "import sympy as sp\n",
    "\n",
    "A = sp.Matrix(\n",
    "    [\n",
    "        [10.3, m + n, 1 + n, -3.2],\n",
    "        [m, 15.7, -n, -4],\n",
    "        [-n, m, 5.5 * n, -n / (m + 1)],\n",
    "        [m + n, 3, -n, m + n],\n",
    "    ]\n",
    ")\n",
    "\n",
    "A"
   ]
  },
  {
   "cell_type": "markdown",
   "id": "3742aeaa",
   "metadata": {},
   "source": [
    "Матриця Б:"
   ]
  },
  {
   "cell_type": "code",
   "execution_count": 3,
   "id": "04fbf97d",
   "metadata": {},
   "outputs": [
    {
     "data": {
      "text/latex": [
       "$\\displaystyle \\left[\\begin{matrix}4\\\\11\\\\- \\frac{23}{10}\\\\9\\end{matrix}\\right]$"
      ],
      "text/plain": [
       "Matrix([\n",
       "[     4],\n",
       "[    11],\n",
       "[-23/10],\n",
       "[     9]])"
      ]
     },
     "execution_count": 3,
     "metadata": {},
     "output_type": "execute_result"
    }
   ],
   "source": [
    "import sympy as sp\n",
    "\n",
    "B = sp.Matrix([7 - m, 2 * n - m, sp.Rational(-23, 10), 3 * m])\n",
    "\n",
    "B"
   ]
  },
  {
   "cell_type": "markdown",
   "id": "4061fbed",
   "metadata": {},
   "source": [
    "Перевірка сумісності"
   ]
  },
  {
   "cell_type": "code",
   "execution_count": 4,
   "id": "64b31773",
   "metadata": {},
   "outputs": [
    {
     "name": "stdout",
     "output_type": "stream",
     "text": [
      "Визначник матриці А: 73279.8675000000\n",
      "Ранг матриці А: 4\n",
      "Ранг розширеної матриці: 4\n",
      "Система сумісна\n"
     ]
    }
   ],
   "source": [
    "detA = A.det()\n",
    "rankA = A.rank()\n",
    "rankAb = A.row_join(B).rank()\n",
    "\n",
    "print(f\"Визначник матриці А: {detA}\")\n",
    "print(f\"Ранг матриці А: {rankA}\")\n",
    "print(f\"Ранг розширеної матриці: {rankAb}\")\n",
    "\n",
    "if detA != 0 and rankA == rankAb:\n",
    "    print(\"Система сумісна\")"
   ]
  },
  {
   "cell_type": "markdown",
   "id": "e135db10",
   "metadata": {},
   "source": [
    "### Метод Крамера"
   ]
  },
  {
   "cell_type": "code",
   "execution_count": 5,
   "id": "56083692",
   "metadata": {},
   "outputs": [
    {
     "data": {
      "text/plain": [
       "[-0.129367646577691, 0.849083003595769, -0.117966404619932, 0.692066262265007]"
      ]
     },
     "execution_count": 5,
     "metadata": {},
     "output_type": "execute_result"
    }
   ],
   "source": [
    "xs_cramer = []\n",
    "for j in range(A.rows):\n",
    "    Aj = A.copy()\n",
    "    Aj[:, j] = B\n",
    "    xs_cramer.append(Aj.det() / detA)\n",
    "\n",
    "xs_cramer"
   ]
  },
  {
   "cell_type": "markdown",
   "id": "3c6134c3",
   "metadata": {},
   "source": [
    "### Матричний метод"
   ]
  },
  {
   "cell_type": "code",
   "execution_count": 6,
   "id": "090aa40e",
   "metadata": {},
   "outputs": [
    {
     "data": {
      "text/latex": [
       "$\\displaystyle \\left[\\begin{matrix}-0.129367646577691\\\\0.849083003595769\\\\-0.117966404619932\\\\0.692066262265007\\end{matrix}\\right]$"
      ],
      "text/plain": [
       "Matrix([\n",
       "[-0.129367646577691],\n",
       "[ 0.849083003595769],\n",
       "[-0.117966404619932],\n",
       "[ 0.692066262265007]])"
      ]
     },
     "execution_count": 6,
     "metadata": {},
     "output_type": "execute_result"
    }
   ],
   "source": [
    "xs_matrix = A**-1 * B\n",
    "\n",
    "xs_matrix"
   ]
  }
 ],
 "metadata": {
  "kernelspec": {
   "display_name": ".venv",
   "language": "python",
   "name": "python3"
  },
  "language_info": {
   "codemirror_mode": {
    "name": "ipython",
    "version": 3
   },
   "file_extension": ".py",
   "mimetype": "text/x-python",
   "name": "python",
   "nbconvert_exporter": "python",
   "pygments_lexer": "ipython3",
   "version": "3.12.11"
  }
 },
 "nbformat": 4,
 "nbformat_minor": 5
}
