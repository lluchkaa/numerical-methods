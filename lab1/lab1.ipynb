{
 "cells": [
  {
   "cell_type": "markdown",
   "id": "99d89f59",
   "metadata": {},
   "source": [
    "# Практична робота #1\n",
    "Лучка Юрій Васильович"
   ]
  },
  {
   "cell_type": "markdown",
   "id": "444b21bb",
   "metadata": {},
   "source": [
    "Початкові дані"
   ]
  },
  {
   "cell_type": "code",
   "execution_count": 1,
   "id": "00552665",
   "metadata": {},
   "outputs": [],
   "source": [
    "a = -1.7\n",
    "b = 2.32\n",
    "c = 0.92\n",
    "k = 2\n",
    "x = 0.057"
   ]
  },
  {
   "cell_type": "code",
   "execution_count": 2,
   "id": "e4df1ee0",
   "metadata": {},
   "outputs": [
    {
     "name": "stdout",
     "output_type": "stream",
     "text": [
      "y = -10966332.518770615\n"
     ]
    }
   ],
   "source": [
    "import math\n",
    "\n",
    "\n",
    "def f(a: float, b: float, c: float, k: float, x: float) -> float:\n",
    "    term1 = math.sqrt(math.fabs((math.cos(k**2) * x - b) / (a**2 + b**2)))\n",
    "    term2 = (10**4) * math.exp(7)\n",
    "    term3 = (math.tan(k**2 * x) + 5 ** (1 / 3)) / (a - math.sin(k**2 * x))\n",
    "    term4 = c / k\n",
    "    return term1 - term2 + term3 - term4\n",
    "\n",
    "\n",
    "y = f(a, b, c, k, x)\n",
    "print(f\"y = {y}\")\n"
   ]
  }
 ],
 "metadata": {
  "kernelspec": {
   "display_name": ".venv",
   "language": "python",
   "name": "python3"
  },
  "language_info": {
   "codemirror_mode": {
    "name": "ipython",
    "version": 3
   },
   "file_extension": ".py",
   "mimetype": "text/x-python",
   "name": "python",
   "nbconvert_exporter": "python",
   "pygments_lexer": "ipython3",
   "version": "3.12.11"
  }
 },
 "nbformat": 4,
 "nbformat_minor": 5
}
